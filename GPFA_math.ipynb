{
 "cells": [
  {
   "cell_type": "raw",
   "metadata": {},
   "source": [
    "---\n",
    "title: Gaussian Processes Factor Analysis Math\n",
    "author: Simone Massaro\n",
    "date: \"2 August 2022\"\n",
    "format:\n",
    "    pdf:\n",
    "        toc: true\n",
    "    html:\n",
    "        toc: true\n",
    "---"
   ]
  },
  {
   "cell_type": "markdown",
   "metadata": {},
   "source": [
    "Derivation of the equations to solve the Gaussian Processes Factor Analysis as described in: Yu, B.M., Cunningham, J.P., Santhanam, G., Ryu, S., Shenoy, K.V., Sahani, M., 2008. Gaussian-process factor analysis for low-dimensional single-trial analysis of neural population activity, in: Advances in Neural Information Processing Systems. Curran Associates, Inc."
   ]
  },
  {
   "cell_type": "markdown",
   "metadata": {
    "pycharm": {
     "name": "#%% md\n"
    }
   },
   "source": [
    "## Notation\n",
    "\n",
    "- $T$  Number of time steps\n",
    "- $N$  Number of variables observed\n",
    "- $K$  Number of dimensions of latent variable\n",
    "- $x_{:,t}$ vector of all the $N$ variables at time $t$, $\\in \\mathbb{R}^N$\n",
    "- $x_{n,:}$ vector of the $n$th variable at for time steps in $T$, $\\in \\mathbb{R}^T$\n",
    "- $x_{n,t}$ $n$th variable at time $t$, $\\in \\mathbb{R}$\n",
    "- $X = [x_{:,1}, ... x_{:, T}]$ Matrix with all the $N$ variables at all time steps $T$, $\\in \\mathbb{R}^{N \\times T}$\n",
    "- $t$ time step\n",
    "- $z_{k, t}$ $k$th latent variable at time $t$, $\\in \\mathbb{R}$\n",
    "- $Z = [z_1 , ... z_t]$ Vector with $z$ at all time steps in $T$, $\\in \\mathbb{R}^{K \\times T}$\n",
    "\n"
   ]
  },
  {
   "cell_type": "markdown",
   "metadata": {
    "pycharm": {
     "name": "#%% md\n"
    }
   },
   "source": [
    "## Gaussian Processes Factor Analysis model\n",
    "\n",
    "We model the variables in this way\n",
    " $$x_{:,t} = \\Lambda z_{:,t} + \\epsilon $$\n",
    "where:\n",
    "\n",
    "- $\\Lambda$ Matrix for linear transformation of $z$ into $x$, $\\in \\mathbb{R}^{N \\times K}$\n",
    "- $\\epsilon$ Random noise. The random noise is independent between the different time steps, $\\in \\mathbb{R}^N$:\n",
    "    - $p(\\epsilon) = \\mathcal{N}(0, \\psi)$ distribution of noise\n",
    "    - $\\psi$, covariance matrix of noise, It is a diagional matrix, $\\in \\mathbb{R}^{N \\times N}$\n",
    "\n",
    "The formulas assumes that $\\langle X \\rangle = 0$ (if $X$ doesn't have a 0 mean it can be easily transformed by substracting the mean)\n",
    "\n",
    "The latent variable $z$ is modelled over time using a Gaussian Process, one process for each dimension $k$\n",
    "for simplicity we assumed that $z$ has only one dimension ($k = 1$)\n",
    "\n",
    "$$p(Z) = \\mathcal{GP}(0, k(t, t \\prime))$$"
   ]
  },
  {
   "cell_type": "markdown",
   "metadata": {
    "pycharm": {
     "name": "#%% md\n"
    }
   },
   "source": [
    "## Derivation of $p(X)$\n",
    "\n",
    "$p(x_{:,t}|z_{:,t}) = \\mathcal{N}(\\Lambda z_{:,t}, \\psi)$ is easy to derive and then $p(x_{:,t})$ and $p(z_{:,t}|x_{:,t})$ can be obtained using the rules of gaussian inference.\n",
    "\n",
    "However, what is interesting is to have the analytical form of $p(X)$, which models both the relations between $z$ and $x$ and the $z$ and $t$. The likelihood of $p(X)$ can then be maximized to obtain the parameters of the latent transformation and the kernel hyperparameter.\n",
    "\n",
    "$p(X)$ is a guassian distribution with $T$ dimensions.\n",
    "\n",
    "$p(X) = \\mathcal{N}(\\langle x_{:,} \\rangle, \\langle x_{:,:}x_{:, :}^T \\rangle)$\n",
    "\n",
    "\n"
   ]
  },
  {
   "cell_type": "markdown",
   "metadata": {
    "pycharm": {
     "name": "#%% md\n"
    }
   },
   "source": [
    "### Diagonal of the covariance matrix\n",
    "\n",
    "let's start with the diagonal of the covariance matrix ($t = t \\prime$)\n",
    "\n",
    "$\\langle x_{:,t}x_{:,t}^T \\rangle = \\langle (\\Lambda z_{:,t} + \\epsilon_{t})(\\Lambda z_{:,t} + \\epsilon_{t})^T \\rangle$\n",
    "\n",
    "by multipling the two vectors together we obtain\n",
    "\n",
    "$\\langle x_{:,t}x_{:,t}^T \\rangle = \\langle \\Lambda z_{:,t} z_{:,t}^T \\Lambda^T + \\Lambda z_{:,t} \\epsilon_{t}^T + \\epsilon_t \\Lambda^T z_{:,t}^T  + \\epsilon_t \\epsilon_{t}^T \\rangle$\n",
    "\n",
    "The using the properties of the [expectation](https://www.statlect.com/fundamentals-of-probability/expected-value-properties) we can: 1) transform the expecations of a sum into a sum of expecations 2) move the $\\lambda$ out of the expecatios, as it doesn't depend on t 3) $\\langle z_{:,t} \\epsilon_t \\rangle = \\langle z_{:,t} \\rangle \\langle \\epsilon_t \\rangle$ because $z_{:,t}$ and $\\epsilon_t$ are indipendent random variables\n",
    "\n",
    "$\\langle x_{:,t}x_{:,t}^T \\rangle = \\Lambda \\langle z_{:,t} z_{:,t}^T\\rangle \\Lambda^T + \\Lambda \\langle z_{:,t} \\rangle \\langle \\epsilon_{t}^T \\rangle + \\langle \\epsilon_{t} \\rangle \\Lambda^T \\langle z_{:,t}^T  \\rangle + \\langle \\epsilon_t \\epsilon_{t}^T \\rangle$\n",
    "\n",
    "Then considering that $\\langle z_{:,t} \\rangle = 0$ and that $\\langle \\epsilon_t \\rangle = 0$\n",
    "the expression can be simplified as:\n",
    "\n",
    "$\\langle x_{:,t}x_{:,t}^T \\rangle = \\Lambda \\langle z_{:,t} z_{:,t}^T\\rangle \\Lambda^T + \\langle \\epsilon_t \\epsilon_{t}^T \\rangle$\n",
    "\n",
    "Then substituting 1) $\\langle z_{:,t} z_{:,t}^T\\rangle = k(t, t)$ as that is the covariance matrix of the gaussian process. 2) $\\langle \\epsilon_t \\epsilon_t^T \\rangle= \\psi$\n",
    "\n",
    "$\\langle x_{:,t}x_{:,t}^T \\rangle = \\Lambda k(t,t)  \\Lambda^T + \\psi$"
   ]
  },
  {
   "cell_type": "markdown",
   "metadata": {
    "pycharm": {
     "name": "#%% md\n"
    }
   },
   "source": [
    "### Other elements\n",
    "\n",
    "similar steps of above\n",
    "\n",
    "$\\langle x_{:,t}x_{:,t \\prime}^T \\rangle = \\langle (\\Lambda z_{:,t} + \\epsilon_{t})(\\Lambda z_{:,t \\prime} + \\epsilon_{t \\prime})^T \\rangle$\n",
    "\n",
    "by multipling the two vectors together we obtain\n",
    "\n",
    "$\\langle x_{:,t}x_{:,t \\prime}^T \\rangle = \\langle \\Lambda z_{:,t} z_{:,t \\prime}^T \\Lambda^T + \\Lambda z_{:,t} \\epsilon_{t \\prime}^T + \\epsilon_t \\Lambda^T z_{:,t \\prime}^T  + \\epsilon_t \\epsilon_{t \\prime}^T \\rangle$\n",
    "\n",
    "Then using the properties of the [expectation](https://www.statlect.com/fundamentals-of-probability/expected-value-properties) we can: 1) transform the expecations of a sum into a sum of expecations 2) move the $\\Lambda$ out of the expecatios, as it doesn't depend on t 3) $\\langle z_{:,t} \\epsilon_t \\rangle = \\langle z_{:,t} \\rangle \\langle \\epsilon_t \\rangle$ because $z_{:,t}$ and $\\epsilon_t$ are indipendent random variables\n",
    "\n",
    "$\\langle x_{:,t}x_{:,t}^T \\rangle = \\Lambda \\langle z_{:,t} z_{:,t}^T\\rangle \\Lambda^T + \\Lambda \\langle z_{:,t} \\rangle \\langle \\epsilon_{t}^T \\rangle + \\langle \\epsilon_{t} \\rangle \\Lambda^T \\langle z_{:,t}^T  \\rangle + \\langle \\epsilon_t \\epsilon_{t}^T \\rangle$\n",
    "\n",
    "Then considering that $\\langle z_{:,t} \\rangle = 0$ and that $\\langle \\epsilon_t \\rangle = 0$\n",
    "the expression can be simplified as:\n",
    "\n",
    "$\\langle x_{:,t}x_{:,t \\prime}^T \\rangle = \\Lambda \\langle z_{:,t} z_{:,t \\prime}^T\\rangle \\Lambda^T + \\langle \\epsilon_t \\epsilon_{t \\prime}^T \\rangle$\n",
    "\n",
    "Then substituting 1) $\\langle z_{:,t} z_{:,t \\prime}^T\\rangle = k(t,t \\prime)$ as that is the covariance matrix of the gaussian process. 2) $\\langle \\epsilon_t \\epsilon_{t \\prime}^T \\rangle= 0$ as $\\epsilon_t$ and $\\epsilon_{t \\prime}$ are indipendent and $\\langle \\epsilon_t \\rangle = 0$\n",
    "\n",
    "$\\langle x_{:,t}x_{:,t \\prime}^T \\rangle = \\Lambda k(t,t \\prime) \\Lambda^T$\n"
   ]
  },
  {
   "cell_type": "markdown",
   "metadata": {
    "pycharm": {
     "name": "#%% md\n"
    }
   },
   "source": [
    "### Result\n",
    "Therefore $p(X)$ can ve modelled as:\n",
    "\n",
    "$$p(X) = \\mathcal{N}\\left (0 , {\\begin{array}{cccc}\n",
    "    \\Lambda k(t_1,t_1) \\Lambda^T + \\psi & \\Lambda k(t_{1},t_{2}) \\Lambda^T & \\cdots & \\Lambda k(t_1 ,t_t) \\Lambda^T\\\\\n",
    "    \\Lambda k(t_{2},t_{1}) \\Lambda^T &  \\Lambda k(t_{2},t_{2}) \\Lambda^T + \\psi & \\cdots & \\Lambda k(t_{2},t_{t}) \\Lambda^T\\\\\n",
    "    \\vdots & \\vdots & \\ddots & \\vdots\\\\\n",
    "    \\Lambda k(t_{t}, t_{1}) \\Lambda^T & \\Lambda k(t_{t},t_{1}) \\Lambda^T & \\cdots & \\Lambda k(t_{t},t_{t}) \\Lambda^T + \\psi\\\\\n",
    "    \\end{array} } \\right )$$"
   ]
  },
  {
   "cell_type": "markdown",
   "metadata": {
    "pycharm": {
     "name": "#%% md\n"
    }
   },
   "source": [
    "and this can also be described as Gaussian Process with a \"special\" kernel. Multiplying kernel with a constant ($\\Lambda$) or adding a constant ($\\psi$) yields another valid kernel (= the obtained matrix is positive semi-definite).\n",
    "\n",
    "If we define the new kernel as $$K(t,t \\prime) = \\Lambda k(t,t \\prime) \\Lambda^T + P(t,t \\prime)$$\n",
    "\n",
    "where $P(t, t \\prime) = \\begin{cases}\n",
    "                \\psi & if\\ \\ t = t \\prime \\\\\n",
    "                0    & if\\ \\ t \\ne t \\prime \\\\\n",
    "            \\end{cases}$\n",
    "\n",
    "(note: should prove that this is a valid kernel)\n",
    "\n",
    "thus\n",
    "\n",
    "$$ p(X) = \\mathcal{GP}(0, K(t, t\\prime))$$"
   ]
  },
  {
   "cell_type": "markdown",
   "metadata": {},
   "source": [
    "## Next steps\n",
    "\n",
    "- The parameters of the final GP ($\\Lambda, \\psi$ and the kernel hyperparameters) can be fitted by maximizing the likelihood of $p(X)$ using gradient descent\n",
    "- An implementation challenge is that for each time step $x$ (the predicted variable from the GP) has multiple dimensions"
   ]
  }
 ],
 "metadata": {
  "kernelspec": {
   "display_name": "Python 3 (ipykernel)",
   "language": "python",
   "name": "python3"
  },
  "language_info": {
   "codemirror_mode": {
    "name": "ipython",
    "version": 3
   },
   "file_extension": ".py",
   "mimetype": "text/x-python",
   "name": "python",
   "nbconvert_exporter": "python",
   "pygments_lexer": "ipython3",
   "version": "3.10.5"
  }
 },
 "nbformat": 4,
 "nbformat_minor": 4
}
