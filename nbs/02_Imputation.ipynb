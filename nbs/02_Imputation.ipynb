{
 "cells": [
  {
   "cell_type": "markdown",
   "id": "c8bf0b28-3066-47f0-a9ec-17f7dbfd56e9",
   "metadata": {},
   "source": [
    "# Imputation time series\n",
    "\n",
    "> Impute time series using GPFA Leaner"
   ]
  },
  {
   "cell_type": "markdown",
   "id": "00e93a35-c0f5-40f1-b111-7d58a767574f",
   "metadata": {},
   "source": [
    "the goal of this notebook is to be able to:\n",
    "\n",
    "- take a timeseries that contains gaps\n",
    "- train a GPFA Learner using the available data\n",
    "- impute the gap, by using the predictions of the learner\n",
    "- to improve the imputation by conditioning the distribution on the other observation at the same time stamp"
   ]
  },
  {
   "cell_type": "code",
   "execution_count": 1,
   "id": "abcc8b0e-193c-4819-8a27-dafe166f4dfe",
   "metadata": {},
   "outputs": [],
   "source": [
    "%load_ext autoreload\n",
    "%autoreload 2"
   ]
  },
  {
   "cell_type": "code",
   "execution_count": 2,
   "id": "d9b18213-e77e-46e4-8aaf-b45f2754cf12",
   "metadata": {},
   "outputs": [],
   "source": [
    "#| hide\n",
    "#| default_exp imputation"
   ]
  },
  {
   "cell_type": "code",
   "execution_count": 3,
   "id": "99dab98c-fe7b-48ec-9ca2-c41889573561",
   "metadata": {},
   "outputs": [],
   "source": [
    "from gpfa_imputation.learner import *\n",
    "\n",
    "import torch\n",
    "\n",
    "import pandas as pd\n",
    "import numpy as np\n",
    "from fastcore.foundation import patch\n",
    "\n",
    "import matplotlib.pyplot as plt\n",
    "import altair as alt"
   ]
  },
  {
   "cell_type": "code",
   "execution_count": 4,
   "id": "58ae00c3-552f-4e27-89de-ca05d2e7e751",
   "metadata": {},
   "outputs": [],
   "source": [
    "torch.manual_seed(27); # set seed for reproducibility of examples"
   ]
  },
  {
   "cell_type": "markdown",
   "id": "3e796831-6f23-47df-a479-d83f7b842ed6",
   "metadata": {},
   "source": [
    "## Fake data \n",
    "\n",
    "generate some fake data in order to test the imputation\n",
    "\n",
    "What is does is:\n",
    "- take a function to generate the \"true\" latent\n",
    "- use some random coefficient to generate all the N features\n",
    "- add some random noise"
   ]
  },
  {
   "cell_type": "code",
   "execution_count": 5,
   "id": "b0cf4c98-0527-492b-ac76-3f2ae76435ef",
   "metadata": {},
   "outputs": [],
   "source": [
    "#| export\n",
    "class GPFAFakeData:\n",
    "    def __init__(self,\n",
    "                    n_features: int,\n",
    "                    n_obs: int,\n",
    "                    latent_func = torch.sin, # Functions used to generate the true latent\n",
    "                    noise_std = .2,\n",
    "                    Lambda = None\n",
    "                ):\n",
    "        \n",
    "        self.n_features, self.n_obs = n_features, n_obs\n",
    "        self.T = torch.arange(n_obs)\n",
    "        \n",
    "        self.latent = latent_func(self.T)\n",
    "        \n",
    "        self.Lambda = torch.tensor(Lambda).reshape(n_features, 1) if Lambda is not None else torch.rand(n_features, 1)\n",
    "        \n",
    "        self.exact_X = (self.Lambda * self.latent).T\n",
    "        \n",
    "        self.X =  self.exact_X + torch.normal(0., noise_std, size = (n_obs, n_features)) \n",
    "        "
   ]
  },
  {
   "cell_type": "code",
   "execution_count": 6,
   "id": "fb6f6e7e-7013-4824-8089-46d3da8f8c97",
   "metadata": {},
   "outputs": [],
   "source": [
    "fd = GPFAFakeData(3, 4)"
   ]
  },
  {
   "cell_type": "code",
   "execution_count": 7,
   "id": "1a28e5db-3280-4722-876e-0dc36f9fe6f3",
   "metadata": {},
   "outputs": [],
   "source": [
    "fd_plot = pd.DataFrame(fd.X.numpy(), columns = [\"x1\", \"x2\", \"x3\"])\n",
    "fd_plot[\"latent\"] = pd.Series(fd.latent.numpy())"
   ]
  },
  {
   "cell_type": "code",
   "execution_count": 8,
   "id": "e8716504-7bbb-455a-8878-75819c5148ea",
   "metadata": {},
   "outputs": [
    {
     "data": {
      "text/plain": [
       "<AxesSubplot:>"
      ]
     },
     "execution_count": 8,
     "metadata": {},
     "output_type": "execute_result"
    },
    {
     "data": {
      "image/png": "[encoded data removed]",
      "text/plain": [
       "<Figure size 432x288 with 1 Axes>"
      ]
     },
     "metadata": {
      "needs_background": "light"
     },
     "output_type": "display_data"
    }
   ],
   "source": [
    "fd_plot.plot()"
   ]
  },
  {
   "cell_type": "markdown",
   "id": "9c18cabe-9d49-4363-a22e-9a71754c6470",
   "metadata": {},
   "source": [
    "### Missing Data\n",
    "\n",
    "add to the fake data class the ability to generate some missing data"
   ]
  },
  {
   "cell_type": "code",
   "execution_count": 9,
   "id": "ef085822-1d13-4a2c-bd54-f8f96e6bc535",
   "metadata": {},
   "outputs": [],
   "source": [
    "# TODO add contigous missing data\n",
    "@patch()\n",
    "def add_missing(self: GPFAFakeData,\n",
    "                prob_miss: float = .2#  Fraction of data that will be missing\n",
    "               ):\n",
    "    self.is_miss = torch.rand(self.n_obs) <= prob_miss\n",
    "    self.X_miss = self.X[~self.is_miss]\n",
    "    self.T_miss = self.T[~self.is_miss] \n",
    "    \n",
    "    return self\n"
   ]
  },
  {
   "cell_type": "code",
   "execution_count": 10,
   "id": "91696d87-64a7-4e80-b60a-ddf02b29abc1",
   "metadata": {},
   "outputs": [
    {
     "data": {
      "text/plain": [
       "<__main__.GPFAFakeData at 0x7f99ab8bb370>"
      ]
     },
     "execution_count": 10,
     "metadata": {},
     "output_type": "execute_result"
    }
   ],
   "source": [
    "fd.add_missing()"
   ]
  },
  {
   "cell_type": "code",
   "execution_count": 11,
   "id": "bdc44e8d-0467-48d3-8117-41fe098fa4e5",
   "metadata": {},
   "outputs": [
    {
     "data": {
      "text/plain": [
       "tensor(0.)"
      ]
     },
     "execution_count": 11,
     "metadata": {},
     "output_type": "execute_result"
    }
   ],
   "source": [
    "fd.is_miss.to(torch.float).mean() # the mean of this means should be .2"
   ]
  },
  {
   "cell_type": "code",
   "execution_count": 12,
   "id": "609f375f-d518-4e5b-8e2e-f2f649081d2a",
   "metadata": {},
   "outputs": [
    {
     "data": {
      "text/plain": [
       "torch.Size([4, 3])"
      ]
     },
     "execution_count": 12,
     "metadata": {},
     "output_type": "execute_result"
    }
   ],
   "source": [
    "fd.X_miss.shape"
   ]
  },
  {
   "cell_type": "code",
   "execution_count": 13,
   "id": "1d7af717-3d65-415c-baec-fbbeba44961d",
   "metadata": {},
   "outputs": [
    {
     "data": {
      "text/plain": [
       "torch.Size([4, 3])"
      ]
     },
     "execution_count": 13,
     "metadata": {},
     "output_type": "execute_result"
    }
   ],
   "source": [
    "fd.X.shape"
   ]
  },
  {
   "cell_type": "markdown",
   "id": "c8218cd0-fc8e-4af8-8ea0-85e93faa7be8",
   "metadata": {},
   "source": [
    "Ideas for improving this class: add_missing should be part of the init, can get the variables with a getter func that can have a miss argument if you want the missing data or no. Otherwise another idea could be to have something the uses the pytorch dataloader api"
   ]
  },
  {
   "cell_type": "markdown",
   "id": "bde841fc-646b-487e-a105-bb0ba4e55bf0",
   "metadata": {},
   "source": [
    "### Save as DataFrame"
   ]
  },
  {
   "cell_type": "code",
   "execution_count": 14,
   "id": "cacf3a98-eeb1-4bb2-8f2a-5055255602f5",
   "metadata": {},
   "outputs": [],
   "source": [
    "# TODO better naming of args\n",
    "@patch\n",
    "def as_df(self: GPFAFakeData,\n",
    "          miss = False, # full dataset (False) or the one without missing data (True)\n",
    "          tidy=True, # result in tidy (long) format? \n",
    "          latent = False, # include latent as column\n",
    "          add_miss = False #columns to indicate whether the row is missing or not\n",
    "         ):\n",
    "    \n",
    "    df = pd.DataFrame(self.X.numpy(), columns = [f\"x{i}\" for i in range(self.n_features)])\n",
    "    df[\"T\"] = self.T\n",
    "    \n",
    "    if latent: df[\"latent\"] = pd.Series(self.latent.numpy())\n",
    "    \n",
    "    \n",
    "    id_vars = [\"T\"]\n",
    "    \n",
    "    if add_miss:\n",
    "        df[\"is_missing\"] = self.is_miss.numpy()\n",
    "        id_vars.append(\"is_missing\")\n",
    "    if miss: df = df.loc[~self.is_miss.numpy(), :]\n",
    "\n",
    "    if tidy: df = df.melt(id_vars)\n",
    "    return df"
   ]
  },
  {
   "cell_type": "code",
   "execution_count": 15,
   "id": "abd82cc4-9812-4f0a-b9a3-aa5072e88c5b",
   "metadata": {},
   "outputs": [
    {
     "data": {
      "text/html": [
       "<div>\n",
       "<style scoped>\n",
       "    .dataframe tbody tr th:only-of-type {\n",
       "        vertical-align: middle;\n",
       "    }\n",
       "\n",
       "    .dataframe tbody tr th {\n",
       "        vertical-align: top;\n",
       "    }\n",
       "\n",
       "    .dataframe thead th {\n",
       "        text-align: right;\n",
       "    }\n",
       "</style>\n",
       "<table border=\"1\" class=\"dataframe\">\n",
       "  <thead>\n",
       "    <tr style=\"text-align: right;\">\n",
       "      <th></th>\n",
       "      <th>T</th>\n",
       "      <th>variable</th>\n",
       "      <th>value</th>\n",
       "    </tr>\n",
       "  </thead>\n",
       "  <tbody>\n",
       "    <tr>\n",
       "      <th>0</th>\n",
       "      <td>0</td>\n",
       "      <td>x0</td>\n",
       "      <td>0.008676</td>\n",
       "    </tr>\n",
       "    <tr>\n",
       "      <th>1</th>\n",
       "      <td>1</td>\n",
       "      <td>x0</td>\n",
       "      <td>0.558043</td>\n",
       "    </tr>\n",
       "    <tr>\n",
       "      <th>2</th>\n",
       "      <td>2</td>\n",
       "      <td>x0</td>\n",
       "      <td>0.873847</td>\n",
       "    </tr>\n",
       "    <tr>\n",
       "      <th>3</th>\n",
       "      <td>3</td>\n",
       "      <td>x0</td>\n",
       "      <td>0.482526</td>\n",
       "    </tr>\n",
       "    <tr>\n",
       "      <th>4</th>\n",
       "      <td>0</td>\n",
       "      <td>x1</td>\n",
       "      <td>-0.194478</td>\n",
       "    </tr>\n",
       "    <tr>\n",
       "      <th>5</th>\n",
       "      <td>1</td>\n",
       "      <td>x1</td>\n",
       "      <td>0.017782</td>\n",
       "    </tr>\n",
       "    <tr>\n",
       "      <th>6</th>\n",
       "      <td>2</td>\n",
       "      <td>x1</td>\n",
       "      <td>0.079032</td>\n",
       "    </tr>\n",
       "    <tr>\n",
       "      <th>7</th>\n",
       "      <td>3</td>\n",
       "      <td>x1</td>\n",
       "      <td>0.043834</td>\n",
       "    </tr>\n",
       "    <tr>\n",
       "      <th>8</th>\n",
       "      <td>0</td>\n",
       "      <td>x2</td>\n",
       "      <td>-0.234784</td>\n",
       "    </tr>\n",
       "    <tr>\n",
       "      <th>9</th>\n",
       "      <td>1</td>\n",
       "      <td>x2</td>\n",
       "      <td>0.598060</td>\n",
       "    </tr>\n",
       "    <tr>\n",
       "      <th>10</th>\n",
       "      <td>2</td>\n",
       "      <td>x2</td>\n",
       "      <td>0.417802</td>\n",
       "    </tr>\n",
       "    <tr>\n",
       "      <th>11</th>\n",
       "      <td>3</td>\n",
       "      <td>x2</td>\n",
       "      <td>0.128108</td>\n",
       "    </tr>\n",
       "  </tbody>\n",
       "</table>\n",
       "</div>"
      ],
      "text/plain": [
       "    T variable     value\n",
       "0   0       x0  0.008676\n",
       "1   1       x0  0.558043\n",
       "2   2       x0  0.873847\n",
       "3   3       x0  0.482526\n",
       "4   0       x1 -0.194478\n",
       "5   1       x1  0.017782\n",
       "6   2       x1  0.079032\n",
       "7   3       x1  0.043834\n",
       "8   0       x2 -0.234784\n",
       "9   1       x2  0.598060\n",
       "10  2       x2  0.417802\n",
       "11  3       x2  0.128108"
      ]
     },
     "execution_count": 15,
     "metadata": {},
     "output_type": "execute_result"
    }
   ],
   "source": [
    "fd.as_df()"
   ]
  },
  {
   "cell_type": "code",
   "execution_count": 16,
   "id": "dfb865e3-4b77-4485-94b2-ec0d20c8bad9",
   "metadata": {},
   "outputs": [
    {
     "data": {
      "text/html": [
       "<div>\n",
       "<style scoped>\n",
       "    .dataframe tbody tr th:only-of-type {\n",
       "        vertical-align: middle;\n",
       "    }\n",
       "\n",
       "    .dataframe tbody tr th {\n",
       "        vertical-align: top;\n",
       "    }\n",
       "\n",
       "    .dataframe thead th {\n",
       "        text-align: right;\n",
       "    }\n",
       "</style>\n",
       "<table border=\"1\" class=\"dataframe\">\n",
       "  <thead>\n",
       "    <tr style=\"text-align: right;\">\n",
       "      <th></th>\n",
       "      <th>T</th>\n",
       "      <th>variable</th>\n",
       "      <th>value</th>\n",
       "    </tr>\n",
       "  </thead>\n",
       "  <tbody>\n",
       "    <tr>\n",
       "      <th>0</th>\n",
       "      <td>0</td>\n",
       "      <td>x0</td>\n",
       "      <td>0.008676</td>\n",
       "    </tr>\n",
       "    <tr>\n",
       "      <th>1</th>\n",
       "      <td>1</td>\n",
       "      <td>x0</td>\n",
       "      <td>0.558043</td>\n",
       "    </tr>\n",
       "    <tr>\n",
       "      <th>2</th>\n",
       "      <td>2</td>\n",
       "      <td>x0</td>\n",
       "      <td>0.873847</td>\n",
       "    </tr>\n",
       "    <tr>\n",
       "      <th>3</th>\n",
       "      <td>3</td>\n",
       "      <td>x0</td>\n",
       "      <td>0.482526</td>\n",
       "    </tr>\n",
       "    <tr>\n",
       "      <th>4</th>\n",
       "      <td>0</td>\n",
       "      <td>x1</td>\n",
       "      <td>-0.194478</td>\n",
       "    </tr>\n",
       "    <tr>\n",
       "      <th>5</th>\n",
       "      <td>1</td>\n",
       "      <td>x1</td>\n",
       "      <td>0.017782</td>\n",
       "    </tr>\n",
       "    <tr>\n",
       "      <th>6</th>\n",
       "      <td>2</td>\n",
       "      <td>x1</td>\n",
       "      <td>0.079032</td>\n",
       "    </tr>\n",
       "    <tr>\n",
       "      <th>7</th>\n",
       "      <td>3</td>\n",
       "      <td>x1</td>\n",
       "      <td>0.043834</td>\n",
       "    </tr>\n",
       "    <tr>\n",
       "      <th>8</th>\n",
       "      <td>0</td>\n",
       "      <td>x2</td>\n",
       "      <td>-0.234784</td>\n",
       "    </tr>\n",
       "    <tr>\n",
       "      <th>9</th>\n",
       "      <td>1</td>\n",
       "      <td>x2</td>\n",
       "      <td>0.598060</td>\n",
       "    </tr>\n",
       "    <tr>\n",
       "      <th>10</th>\n",
       "      <td>2</td>\n",
       "      <td>x2</td>\n",
       "      <td>0.417802</td>\n",
       "    </tr>\n",
       "    <tr>\n",
       "      <th>11</th>\n",
       "      <td>3</td>\n",
       "      <td>x2</td>\n",
       "      <td>0.128108</td>\n",
       "    </tr>\n",
       "  </tbody>\n",
       "</table>\n",
       "</div>"
      ],
      "text/plain": [
       "    T variable     value\n",
       "0   0       x0  0.008676\n",
       "1   1       x0  0.558043\n",
       "2   2       x0  0.873847\n",
       "3   3       x0  0.482526\n",
       "4   0       x1 -0.194478\n",
       "5   1       x1  0.017782\n",
       "6   2       x1  0.079032\n",
       "7   3       x1  0.043834\n",
       "8   0       x2 -0.234784\n",
       "9   1       x2  0.598060\n",
       "10  2       x2  0.417802\n",
       "11  3       x2  0.128108"
      ]
     },
     "execution_count": 16,
     "metadata": {},
     "output_type": "execute_result"
    }
   ],
   "source": [
    "fd.as_df(miss=True)"
   ]
  },
  {
   "cell_type": "code",
   "execution_count": 17,
   "id": "cb8e95de-945c-4665-a434-ed84e59a7124",
   "metadata": {},
   "outputs": [
    {
     "data": {
      "text/html": [
       "<div>\n",
       "<style scoped>\n",
       "    .dataframe tbody tr th:only-of-type {\n",
       "        vertical-align: middle;\n",
       "    }\n",
       "\n",
       "    .dataframe tbody tr th {\n",
       "        vertical-align: top;\n",
       "    }\n",
       "\n",
       "    .dataframe thead th {\n",
       "        text-align: right;\n",
       "    }\n",
       "</style>\n",
       "<table border=\"1\" class=\"dataframe\">\n",
       "  <thead>\n",
       "    <tr style=\"text-align: right;\">\n",
       "      <th></th>\n",
       "      <th>x0</th>\n",
       "      <th>x1</th>\n",
       "      <th>x2</th>\n",
       "      <th>T</th>\n",
       "    </tr>\n",
       "  </thead>\n",
       "  <tbody>\n",
       "    <tr>\n",
       "      <th>0</th>\n",
       "      <td>0.008676</td>\n",
       "      <td>-0.194478</td>\n",
       "      <td>-0.234784</td>\n",
       "      <td>0</td>\n",
       "    </tr>\n",
       "    <tr>\n",
       "      <th>1</th>\n",
       "      <td>0.558043</td>\n",
       "      <td>0.017782</td>\n",
       "      <td>0.598060</td>\n",
       "      <td>1</td>\n",
       "    </tr>\n",
       "    <tr>\n",
       "      <th>2</th>\n",
       "      <td>0.873847</td>\n",
       "      <td>0.079032</td>\n",
       "      <td>0.417802</td>\n",
       "      <td>2</td>\n",
       "    </tr>\n",
       "    <tr>\n",
       "      <th>3</th>\n",
       "      <td>0.482526</td>\n",
       "      <td>0.043834</td>\n",
       "      <td>0.128108</td>\n",
       "      <td>3</td>\n",
       "    </tr>\n",
       "  </tbody>\n",
       "</table>\n",
       "</div>"
      ],
      "text/plain": [
       "         x0        x1        x2  T\n",
       "0  0.008676 -0.194478 -0.234784  0\n",
       "1  0.558043  0.017782  0.598060  1\n",
       "2  0.873847  0.079032  0.417802  2\n",
       "3  0.482526  0.043834  0.128108  3"
      ]
     },
     "execution_count": 17,
     "metadata": {},
     "output_type": "execute_result"
    }
   ],
   "source": [
    "fd.as_df(tidy=False)"
   ]
  },
  {
   "cell_type": "code",
   "execution_count": 18,
   "id": "59495091-ff25-462a-a4f0-408805c228a2",
   "metadata": {},
   "outputs": [
    {
     "data": {
      "text/html": [
       "<div>\n",
       "<style scoped>\n",
       "    .dataframe tbody tr th:only-of-type {\n",
       "        vertical-align: middle;\n",
       "    }\n",
       "\n",
       "    .dataframe tbody tr th {\n",
       "        vertical-align: top;\n",
       "    }\n",
       "\n",
       "    .dataframe thead th {\n",
       "        text-align: right;\n",
       "    }\n",
       "</style>\n",
       "<table border=\"1\" class=\"dataframe\">\n",
       "  <thead>\n",
       "    <tr style=\"text-align: right;\">\n",
       "      <th></th>\n",
       "      <th>T</th>\n",
       "      <th>variable</th>\n",
       "      <th>value</th>\n",
       "    </tr>\n",
       "  </thead>\n",
       "  <tbody>\n",
       "    <tr>\n",
       "      <th>0</th>\n",
       "      <td>0</td>\n",
       "      <td>x0</td>\n",
       "      <td>0.008676</td>\n",
       "    </tr>\n",
       "    <tr>\n",
       "      <th>1</th>\n",
       "      <td>1</td>\n",
       "      <td>x0</td>\n",
       "      <td>0.558043</td>\n",
       "    </tr>\n",
       "    <tr>\n",
       "      <th>2</th>\n",
       "      <td>2</td>\n",
       "      <td>x0</td>\n",
       "      <td>0.873847</td>\n",
       "    </tr>\n",
       "    <tr>\n",
       "      <th>3</th>\n",
       "      <td>3</td>\n",
       "      <td>x0</td>\n",
       "      <td>0.482526</td>\n",
       "    </tr>\n",
       "    <tr>\n",
       "      <th>4</th>\n",
       "      <td>0</td>\n",
       "      <td>x1</td>\n",
       "      <td>-0.194478</td>\n",
       "    </tr>\n",
       "    <tr>\n",
       "      <th>5</th>\n",
       "      <td>1</td>\n",
       "      <td>x1</td>\n",
       "      <td>0.017782</td>\n",
       "    </tr>\n",
       "    <tr>\n",
       "      <th>6</th>\n",
       "      <td>2</td>\n",
       "      <td>x1</td>\n",
       "      <td>0.079032</td>\n",
       "    </tr>\n",
       "    <tr>\n",
       "      <th>7</th>\n",
       "      <td>3</td>\n",
       "      <td>x1</td>\n",
       "      <td>0.043834</td>\n",
       "    </tr>\n",
       "    <tr>\n",
       "      <th>8</th>\n",
       "      <td>0</td>\n",
       "      <td>x2</td>\n",
       "      <td>-0.234784</td>\n",
       "    </tr>\n",
       "    <tr>\n",
       "      <th>9</th>\n",
       "      <td>1</td>\n",
       "      <td>x2</td>\n",
       "      <td>0.598060</td>\n",
       "    </tr>\n",
       "    <tr>\n",
       "      <th>10</th>\n",
       "      <td>2</td>\n",
       "      <td>x2</td>\n",
       "      <td>0.417802</td>\n",
       "    </tr>\n",
       "    <tr>\n",
       "      <th>11</th>\n",
       "      <td>3</td>\n",
       "      <td>x2</td>\n",
       "      <td>0.128108</td>\n",
       "    </tr>\n",
       "    <tr>\n",
       "      <th>12</th>\n",
       "      <td>0</td>\n",
       "      <td>latent</td>\n",
       "      <td>0.000000</td>\n",
       "    </tr>\n",
       "    <tr>\n",
       "      <th>13</th>\n",
       "      <td>1</td>\n",
       "      <td>latent</td>\n",
       "      <td>0.841471</td>\n",
       "    </tr>\n",
       "    <tr>\n",
       "      <th>14</th>\n",
       "      <td>2</td>\n",
       "      <td>latent</td>\n",
       "      <td>0.909297</td>\n",
       "    </tr>\n",
       "    <tr>\n",
       "      <th>15</th>\n",
       "      <td>3</td>\n",
       "      <td>latent</td>\n",
       "      <td>0.141120</td>\n",
       "    </tr>\n",
       "  </tbody>\n",
       "</table>\n",
       "</div>"
      ],
      "text/plain": [
       "    T variable     value\n",
       "0   0       x0  0.008676\n",
       "1   1       x0  0.558043\n",
       "2   2       x0  0.873847\n",
       "3   3       x0  0.482526\n",
       "4   0       x1 -0.194478\n",
       "5   1       x1  0.017782\n",
       "6   2       x1  0.079032\n",
       "7   3       x1  0.043834\n",
       "8   0       x2 -0.234784\n",
       "9   1       x2  0.598060\n",
       "10  2       x2  0.417802\n",
       "11  3       x2  0.128108\n",
       "12  0   latent  0.000000\n",
       "13  1   latent  0.841471\n",
       "14  2   latent  0.909297\n",
       "15  3   latent  0.141120"
      ]
     },
     "execution_count": 18,
     "metadata": {},
     "output_type": "execute_result"
    }
   ],
   "source": [
    "fd.as_df(latent=True)"
   ]
  },
  {
   "cell_type": "code",
   "execution_count": 19,
   "id": "cdbbf981-102c-40fb-bf80-2cbfeea8801e",
   "metadata": {},
   "outputs": [
    {
     "data": {
      "text/html": [
       "<div>\n",
       "<style scoped>\n",
       "    .dataframe tbody tr th:only-of-type {\n",
       "        vertical-align: middle;\n",
       "    }\n",
       "\n",
       "    .dataframe tbody tr th {\n",
       "        vertical-align: top;\n",
       "    }\n",
       "\n",
       "    .dataframe thead th {\n",
       "        text-align: right;\n",
       "    }\n",
       "</style>\n",
       "<table border=\"1\" class=\"dataframe\">\n",
       "  <thead>\n",
       "    <tr style=\"text-align: right;\">\n",
       "      <th></th>\n",
       "      <th>T</th>\n",
       "      <th>is_missing</th>\n",
       "      <th>variable</th>\n",
       "      <th>value</th>\n",
       "    </tr>\n",
       "  </thead>\n",
       "  <tbody>\n",
       "    <tr>\n",
       "      <th>0</th>\n",
       "      <td>0</td>\n",
       "      <td>False</td>\n",
       "      <td>x0</td>\n",
       "      <td>0.008676</td>\n",
       "    </tr>\n",
       "    <tr>\n",
       "      <th>1</th>\n",
       "      <td>1</td>\n",
       "      <td>False</td>\n",
       "      <td>x0</td>\n",
       "      <td>0.558043</td>\n",
       "    </tr>\n",
       "    <tr>\n",
       "      <th>2</th>\n",
       "      <td>2</td>\n",
       "      <td>False</td>\n",
       "      <td>x0</td>\n",
       "      <td>0.873847</td>\n",
       "    </tr>\n",
       "    <tr>\n",
       "      <th>3</th>\n",
       "      <td>3</td>\n",
       "      <td>False</td>\n",
       "      <td>x0</td>\n",
       "      <td>0.482526</td>\n",
       "    </tr>\n",
       "    <tr>\n",
       "      <th>4</th>\n",
       "      <td>0</td>\n",
       "      <td>False</td>\n",
       "      <td>x1</td>\n",
       "      <td>-0.194478</td>\n",
       "    </tr>\n",
       "    <tr>\n",
       "      <th>5</th>\n",
       "      <td>1</td>\n",
       "      <td>False</td>\n",
       "      <td>x1</td>\n",
       "      <td>0.017782</td>\n",
       "    </tr>\n",
       "    <tr>\n",
       "      <th>6</th>\n",
       "      <td>2</td>\n",
       "      <td>False</td>\n",
       "      <td>x1</td>\n",
       "      <td>0.079032</td>\n",
       "    </tr>\n",
       "    <tr>\n",
       "      <th>7</th>\n",
       "      <td>3</td>\n",
       "      <td>False</td>\n",
       "      <td>x1</td>\n",
       "      <td>0.043834</td>\n",
       "    </tr>\n",
       "    <tr>\n",
       "      <th>8</th>\n",
       "      <td>0</td>\n",
       "      <td>False</td>\n",
       "      <td>x2</td>\n",
       "      <td>-0.234784</td>\n",
       "    </tr>\n",
       "    <tr>\n",
       "      <th>9</th>\n",
       "      <td>1</td>\n",
       "      <td>False</td>\n",
       "      <td>x2</td>\n",
       "      <td>0.598060</td>\n",
       "    </tr>\n",
       "    <tr>\n",
       "      <th>10</th>\n",
       "      <td>2</td>\n",
       "      <td>False</td>\n",
       "      <td>x2</td>\n",
       "      <td>0.417802</td>\n",
       "    </tr>\n",
       "    <tr>\n",
       "      <th>11</th>\n",
       "      <td>3</td>\n",
       "      <td>False</td>\n",
       "      <td>x2</td>\n",
       "      <td>0.128108</td>\n",
       "    </tr>\n",
       "  </tbody>\n",
       "</table>\n",
       "</div>"
      ],
      "text/plain": [
       "    T  is_missing variable     value\n",
       "0   0       False       x0  0.008676\n",
       "1   1       False       x0  0.558043\n",
       "2   2       False       x0  0.873847\n",
       "3   3       False       x0  0.482526\n",
       "4   0       False       x1 -0.194478\n",
       "5   1       False       x1  0.017782\n",
       "6   2       False       x1  0.079032\n",
       "7   3       False       x1  0.043834\n",
       "8   0       False       x2 -0.234784\n",
       "9   1       False       x2  0.598060\n",
       "10  2       False       x2  0.417802\n",
       "11  3       False       x2  0.128108"
      ]
     },
     "execution_count": 19,
     "metadata": {},
     "output_type": "execute_result"
    }
   ],
   "source": [
    "fd.as_df(add_miss=True)"
   ]
  },
  {
   "cell_type": "markdown",
   "id": "88a9de9c-3a7e-4a13-81ae-4b1cc10dfcfc",
   "metadata": {},
   "source": [
    "The export as a dataframe is working correctly with the missing data"
   ]
  },
  {
   "cell_type": "code",
   "execution_count": 20,
   "id": "3e17fd3a-eca2-4eb1-91d3-6b6e0bfe44c8",
   "metadata": {},
   "outputs": [],
   "source": [
    "fd_df = fd.as_df()"
   ]
  },
  {
   "cell_type": "code",
   "execution_count": 21,
   "id": "609b52ac-681e-4ed7-af9b-6cd947510aeb",
   "metadata": {},
   "outputs": [
    {
     "data": {
      "text/html": [
       "\n",
       "<div id=\"altair-viz-97b258267dac476fb2b9e1ff6e88d177\"></div>\n",
       "<script type=\"text/javascript\">\n",
       "  var VEGA_DEBUG = (typeof VEGA_DEBUG == \"undefined\") ? {} : VEGA_DEBUG;\n",
       "  (function(spec, embedOpt){\n",
       "    let outputDiv = document.currentScript.previousElementSibling;\n",
       "    if (outputDiv.id !== \"altair-viz-97b258267dac476fb2b9e1ff6e88d177\") {\n",
       "      outputDiv = document.getElementById(\"altair-viz-97b258267dac476fb2b9e1ff6e88d177\");\n",
       "    }\n",
       "    const paths = {\n",
       "      \"vega\": \"https://cdn.jsdelivr.net/npm//vega@5?noext\",\n",
       "      \"vega-lib\": \"https://cdn.jsdelivr.net/npm//vega-lib?noext\",\n",
       "      \"vega-lite\": \"https://cdn.jsdelivr.net/npm//vega-lite@4.17.0?noext\",\n",
       "      \"vega-embed\": \"https://cdn.jsdelivr.net/npm//vega-embed@6?noext\",\n",
       "    };\n",
       "\n",
       "    function maybeLoadScript(lib, version) {\n",
       "      var key = `${lib.replace(\"-\", \"\")}_version`;\n",
       "      return (VEGA_DEBUG[key] == version) ?\n",
       "        Promise.resolve(paths[lib]) :\n",
       "        new Promise(function(resolve, reject) {\n",
       "          var s = document.createElement('script');\n",
       "          document.getElementsByTagName(\"head\")[0].appendChild(s);\n",
       "          s.async = true;\n",
       "          s.onload = () => {\n",
       "            VEGA_DEBUG[key] = version;\n",
       "            return resolve(paths[lib]);\n",
       "          };\n",
       "          s.onerror = () => reject(`Error loading script: ${paths[lib]}`);\n",
       "          s.src = paths[lib];\n",
       "        });\n",
       "    }\n",
       "\n",
       "    function showError(err) {\n",
       "      outputDiv.innerHTML = `<div class=\"error\" style=\"color:red;\">${err}</div>`;\n",
       "      throw err;\n",
       "    }\n",
       "\n",
       "    function displayChart(vegaEmbed) {\n",
       "      vegaEmbed(outputDiv, spec, embedOpt)\n",
       "        .catch(err => showError(`Javascript Error: ${err.message}<br>This usually means there's a typo in your chart specification. See the javascript console for the full traceback.`));\n",
       "    }\n",
       "\n",
       "    if(typeof define === \"function\" && define.amd) {\n",
       "      requirejs.config({paths});\n",
       "      require([\"vega-embed\"], displayChart, err => showError(`Error loading script: ${err.message}`));\n",
       "    } else {\n",
       "      maybeLoadScript(\"vega\", \"5\")\n",
       "        .then(() => maybeLoadScript(\"vega-lite\", \"4.17.0\"))\n",
       "        .then(() => maybeLoadScript(\"vega-embed\", \"6\"))\n",
       "        .catch(showError)\n",
       "        .then(() => displayChart(vegaEmbed));\n",
       "    }\n",
       "  })({\"config\": {\"view\": {\"continuousWidth\": 400, \"continuousHeight\": 300}}, \"data\": {\"name\": \"data-dfe2d697cbbae35366b980c78246a319\"}, \"mark\": {\"type\": \"line\", \"point\": true}, \"encoding\": {\"color\": {\"field\": \"variable\", \"type\": \"nominal\"}, \"x\": {\"field\": \"T\", \"type\": \"quantitative\"}, \"y\": {\"field\": \"value\", \"type\": \"quantitative\"}}, \"$schema\": \"https://vega.github.io/schema/vega-lite/v4.17.0.json\", \"datasets\": {\"data-dfe2d697cbbae35366b980c78246a319\": [{\"T\": 0, \"variable\": \"x0\", \"value\": 0.008675660006701946}, {\"T\": 1, \"variable\": \"x0\", \"value\": 0.5580427050590515}, {\"T\": 2, \"variable\": \"x0\", \"value\": 0.8738471865653992}, {\"T\": 3, \"variable\": \"x0\", \"value\": 0.4825260043144226}, {\"T\": 0, \"variable\": \"x1\", \"value\": -0.19447755813598633}, {\"T\": 1, \"variable\": \"x1\", \"value\": 0.01778237521648407}, {\"T\": 2, \"variable\": \"x1\", \"value\": 0.07903182506561279}, {\"T\": 3, \"variable\": \"x1\", \"value\": 0.04383351281285286}, {\"T\": 0, \"variable\": \"x2\", \"value\": -0.23478448390960693}, {\"T\": 1, \"variable\": \"x2\", \"value\": 0.5980595350265503}, {\"T\": 2, \"variable\": \"x2\", \"value\": 0.41780221462249756}, {\"T\": 3, \"variable\": \"x2\", \"value\": 0.128107950091362}]}}, {\"mode\": \"vega-lite\"});\n",
       "</script>"
      ],
      "text/plain": [
       "alt.Chart(...)"
      ]
     },
     "execution_count": 21,
     "metadata": {},
     "output_type": "execute_result"
    }
   ],
   "source": [
    "alt.Chart(fd_df).mark_line(point=True).encode(\n",
    "    x = \"T\",\n",
    "    y = \"value\",\n",
    "    color = \"variable\"\n",
    ")"
   ]
  },
  {
   "cell_type": "code",
   "execution_count": 22,
   "id": "83ab9a69-8586-4d58-8859-a67018510282",
   "metadata": {},
   "outputs": [
    {
     "data": {
      "text/html": [
       "\n",
       "<div id=\"altair-viz-a6819fd7d52546438008055be1449db8\"></div>\n",
       "<script type=\"text/javascript\">\n",
       "  var VEGA_DEBUG = (typeof VEGA_DEBUG == \"undefined\") ? {} : VEGA_DEBUG;\n",
       "  (function(spec, embedOpt){\n",
       "    let outputDiv = document.currentScript.previousElementSibling;\n",
       "    if (outputDiv.id !== \"altair-viz-a6819fd7d52546438008055be1449db8\") {\n",
       "      outputDiv = document.getElementById(\"altair-viz-a6819fd7d52546438008055be1449db8\");\n",
       "    }\n",
       "    const paths = {\n",
       "      \"vega\": \"https://cdn.jsdelivr.net/npm//vega@5?noext\",\n",
       "      \"vega-lib\": \"https://cdn.jsdelivr.net/npm//vega-lib?noext\",\n",
       "      \"vega-lite\": \"https://cdn.jsdelivr.net/npm//vega-lite@4.17.0?noext\",\n",
       "      \"vega-embed\": \"https://cdn.jsdelivr.net/npm//vega-embed@6?noext\",\n",
       "    };\n",
       "\n",
       "    function maybeLoadScript(lib, version) {\n",
       "      var key = `${lib.replace(\"-\", \"\")}_version`;\n",
       "      return (VEGA_DEBUG[key] == version) ?\n",
       "        Promise.resolve(paths[lib]) :\n",
       "        new Promise(function(resolve, reject) {\n",
       "          var s = document.createElement('script');\n",
       "          document.getElementsByTagName(\"head\")[0].appendChild(s);\n",
       "          s.async = true;\n",
       "          s.onload = () => {\n",
       "            VEGA_DEBUG[key] = version;\n",
       "            return resolve(paths[lib]);\n",
       "          };\n",
       "          s.onerror = () => reject(`Error loading script: ${paths[lib]}`);\n",
       "          s.src = paths[lib];\n",
       "        });\n",
       "    }\n",
       "\n",
       "    function showError(err) {\n",
       "      outputDiv.innerHTML = `<div class=\"error\" style=\"color:red;\">${err}</div>`;\n",
       "      throw err;\n",
       "    }\n",
       "\n",
       "    function displayChart(vegaEmbed) {\n",
       "      vegaEmbed(outputDiv, spec, embedOpt)\n",
       "        .catch(err => showError(`Javascript Error: ${err.message}<br>This usually means there's a typo in your chart specification. See the javascript console for the full traceback.`));\n",
       "    }\n",
       "\n",
       "    if(typeof define === \"function\" && define.amd) {\n",
       "      requirejs.config({paths});\n",
       "      require([\"vega-embed\"], displayChart, err => showError(`Error loading script: ${err.message}`));\n",
       "    } else {\n",
       "      maybeLoadScript(\"vega\", \"5\")\n",
       "        .then(() => maybeLoadScript(\"vega-lite\", \"4.17.0\"))\n",
       "        .then(() => maybeLoadScript(\"vega-embed\", \"6\"))\n",
       "        .catch(showError)\n",
       "        .then(() => displayChart(vegaEmbed));\n",
       "    }\n",
       "  })({\"config\": {\"view\": {\"continuousWidth\": 400, \"continuousHeight\": 300}}, \"data\": {\"name\": \"data-dfe2d697cbbae35366b980c78246a319\"}, \"mark\": {\"type\": \"line\", \"point\": true}, \"encoding\": {\"color\": {\"field\": \"variable\", \"type\": \"nominal\"}, \"x\": {\"field\": \"T\", \"type\": \"quantitative\"}, \"y\": {\"field\": \"value\", \"type\": \"quantitative\"}}, \"$schema\": \"https://vega.github.io/schema/vega-lite/v4.17.0.json\", \"datasets\": {\"data-dfe2d697cbbae35366b980c78246a319\": [{\"T\": 0, \"variable\": \"x0\", \"value\": 0.008675660006701946}, {\"T\": 1, \"variable\": \"x0\", \"value\": 0.5580427050590515}, {\"T\": 2, \"variable\": \"x0\", \"value\": 0.8738471865653992}, {\"T\": 3, \"variable\": \"x0\", \"value\": 0.4825260043144226}, {\"T\": 0, \"variable\": \"x1\", \"value\": -0.19447755813598633}, {\"T\": 1, \"variable\": \"x1\", \"value\": 0.01778237521648407}, {\"T\": 2, \"variable\": \"x1\", \"value\": 0.07903182506561279}, {\"T\": 3, \"variable\": \"x1\", \"value\": 0.04383351281285286}, {\"T\": 0, \"variable\": \"x2\", \"value\": -0.23478448390960693}, {\"T\": 1, \"variable\": \"x2\", \"value\": 0.5980595350265503}, {\"T\": 2, \"variable\": \"x2\", \"value\": 0.41780221462249756}, {\"T\": 3, \"variable\": \"x2\", \"value\": 0.128107950091362}]}}, {\"mode\": \"vega-lite\"});\n",
       "</script>"
      ],
      "text/plain": [
       "alt.Chart(...)"
      ]
     },
     "execution_count": 22,
     "metadata": {},
     "output_type": "execute_result"
    }
   ],
   "source": [
    "alt.Chart(fd.as_df(miss=True)).mark_line(point=True).encode(\n",
    "    x = \"T\",\n",
    "    y = \"value\",\n",
    "    color = \"variable\"\n",
    ")"
   ]
  },
  {
   "cell_type": "markdown",
   "id": "0c06765a-03a6-40d7-bf28-da778d3367d5",
   "metadata": {},
   "source": [
    "## GPFA Imputation"
   ]
  },
  {
   "cell_type": "markdown",
   "id": "e4b74fb4-2ebd-4246-96cf-0f0918db8e9f",
   "metadata": {},
   "source": [
    "This is the core class that does the imputation using a GPFA\n",
    "\n",
    "The inputs is:\n",
    "\n",
    "- a dataframe containing the observed data, where the row with missing data have been removed\n",
    "- a vector of times where the data is missing\n",
    "\n",
    "it returns:\n",
    "\n",
    "- a complete dataframe with the prediction of the model"
   ]
  },
  {
   "cell_type": "markdown",
   "id": "7a090dbf-d6c2-4868-b151-753c0b323b0a",
   "metadata": {},
   "source": [
    "The goal is that `GPFAImputation` takes as imput a dataframe containing missing values and then it imputes them using GPFALearner.\n",
    "Therefore it needs to divide the dataframe in 3 sections:\n",
    "\n",
    "- training data (rows with no NAs)\n",
    "- times to be imputed (rows with some NAs)\n",
    "- observations (variables in the pred rows that are not missing) for conditional predictions"
   ]
  },
  {
   "cell_type": "code",
   "execution_count": 23,
   "id": "721fdcb7-60a6-45ed-bd56-3eef43af55f9",
   "metadata": {},
   "outputs": [],
   "source": [
    "t_df = pd.DataFrame([\n",
    "    [1., 3., 4.],\n",
    "    [2., 6., np.nan],\n",
    "    [np.nan, np.nan, np.nan],\n",
    "    [np.nan, 8., np.nan],\n",
    "    [3., 4., 5.]\n",
    "]\n",
    ")"
   ]
  },
  {
   "cell_type": "code",
   "execution_count": 24,
   "id": "3156d961-af0c-44cd-8167-8b0335d3c65f",
   "metadata": {},
   "outputs": [],
   "source": [
    "train_idx = ~t_df.isna().any(1)"
   ]
  },
  {
   "cell_type": "code",
   "execution_count": 25,
   "id": "7ff95b15-0fc3-45bc-aafe-7a0ad1c17b2f",
   "metadata": {},
   "outputs": [
    {
     "data": {
      "text/html": [
       "<div>\n",
       "<style scoped>\n",
       "    .dataframe tbody tr th:only-of-type {\n",
       "        vertical-align: middle;\n",
       "    }\n",
       "\n",
       "    .dataframe tbody tr th {\n",
       "        vertical-align: top;\n",
       "    }\n",
       "\n",
       "    .dataframe thead th {\n",
       "        text-align: right;\n",
       "    }\n",
       "</style>\n",
       "<table border=\"1\" class=\"dataframe\">\n",
       "  <thead>\n",
       "    <tr style=\"text-align: right;\">\n",
       "      <th></th>\n",
       "      <th>0</th>\n",
       "      <th>1</th>\n",
       "      <th>2</th>\n",
       "    </tr>\n",
       "  </thead>\n",
       "  <tbody>\n",
       "    <tr>\n",
       "      <th>0</th>\n",
       "      <td>1.0</td>\n",
       "      <td>3.0</td>\n",
       "      <td>4.0</td>\n",
       "    </tr>\n",
       "    <tr>\n",
       "      <th>4</th>\n",
       "      <td>3.0</td>\n",
       "      <td>4.0</td>\n",
       "      <td>5.0</td>\n",
       "    </tr>\n",
       "  </tbody>\n",
       "</table>\n",
       "</div>"
      ],
      "text/plain": [
       "     0    1    2\n",
       "0  1.0  3.0  4.0\n",
       "4  3.0  4.0  5.0"
      ]
     },
     "execution_count": 25,
     "metadata": {},
     "output_type": "execute_result"
    }
   ],
   "source": [
    "t_df[train_idx]"
   ]
  },
  {
   "cell_type": "code",
   "execution_count": 26,
   "id": "81c3aa25-f1dd-4fe2-a3a1-6e4ce4aab7bd",
   "metadata": {},
   "outputs": [],
   "source": [
    "pred_data = t_df[~train_idx].to_numpy() "
   ]
  },
  {
   "cell_type": "code",
   "execution_count": 27,
   "id": "fc0830b8-1e75-421d-83d1-707587a16a1a",
   "metadata": {},
   "outputs": [
    {
     "data": {
      "text/plain": [
       "array([[ 2.,  6., nan],\n",
       "       [nan, nan, nan],\n",
       "       [nan,  8., nan]])"
      ]
     },
     "execution_count": 27,
     "metadata": {},
     "output_type": "execute_result"
    }
   ],
   "source": [
    "pred_data"
   ]
  },
  {
   "cell_type": "code",
   "execution_count": 28,
   "id": "e89ae372-e8c7-417b-89b6-f2a22ef91068",
   "metadata": {},
   "outputs": [],
   "source": [
    "idx_cond = ~t_df[~train_idx].isna()"
   ]
  },
  {
   "cell_type": "code",
   "execution_count": 29,
   "id": "ac4457ad-a5e5-44c0-ba46-645c066bc43c",
   "metadata": {},
   "outputs": [
    {
     "data": {
      "text/html": [
       "<div>\n",
       "<style scoped>\n",
       "    .dataframe tbody tr th:only-of-type {\n",
       "        vertical-align: middle;\n",
       "    }\n",
       "\n",
       "    .dataframe tbody tr th {\n",
       "        vertical-align: top;\n",
       "    }\n",
       "\n",
       "    .dataframe thead th {\n",
       "        text-align: right;\n",
       "    }\n",
       "</style>\n",
       "<table border=\"1\" class=\"dataframe\">\n",
       "  <thead>\n",
       "    <tr style=\"text-align: right;\">\n",
       "      <th></th>\n",
       "      <th>0</th>\n",
       "      <th>1</th>\n",
       "      <th>2</th>\n",
       "    </tr>\n",
       "  </thead>\n",
       "  <tbody>\n",
       "    <tr>\n",
       "      <th>1</th>\n",
       "      <td>True</td>\n",
       "      <td>True</td>\n",
       "      <td>False</td>\n",
       "    </tr>\n",
       "    <tr>\n",
       "      <th>2</th>\n",
       "      <td>False</td>\n",
       "      <td>False</td>\n",
       "      <td>False</td>\n",
       "    </tr>\n",
       "    <tr>\n",
       "      <th>3</th>\n",
       "      <td>False</td>\n",
       "      <td>True</td>\n",
       "      <td>False</td>\n",
       "    </tr>\n",
       "  </tbody>\n",
       "</table>\n",
       "</div>"
      ],
      "text/plain": [
       "       0      1      2\n",
       "1   True   True  False\n",
       "2  False  False  False\n",
       "3  False   True  False"
      ]
     },
     "execution_count": 29,
     "metadata": {},
     "output_type": "execute_result"
    }
   ],
   "source": [
    "idx_cond"
   ]
  },
  {
   "cell_type": "code",
   "execution_count": 30,
   "id": "efad0659-8dc8-4575-82c1-7cf01e16cd54",
   "metadata": {},
   "outputs": [],
   "source": [
    "idx_cond = idx_cond.to_numpy().flatten() # learner needs a 1D index"
   ]
  },
  {
   "cell_type": "code",
   "execution_count": 31,
   "id": "aef38aff-873e-4367-911e-c971a5cffcc1",
   "metadata": {},
   "outputs": [],
   "source": [
    "obs = pred_data.flatten()[idx_cond]"
   ]
  },
  {
   "cell_type": "code",
   "execution_count": 32,
   "id": "84ff9032-ff84-4250-afb7-4d367abdbc89",
   "metadata": {},
   "outputs": [
    {
     "data": {
      "text/plain": [
       "array([2., 6., 8.])"
      ]
     },
     "execution_count": 32,
     "metadata": {},
     "output_type": "execute_result"
    }
   ],
   "source": [
    "obs"
   ]
  },
  {
   "cell_type": "code",
   "execution_count": 33,
   "id": "003de039-446d-4354-bc1a-c0fcda0e4d61",
   "metadata": {},
   "outputs": [],
   "source": [
    "train_idx = t_df.isna().any(1)"
   ]
  },
  {
   "cell_type": "code",
   "execution_count": 34,
   "id": "6c311aac-47ba-4b21-9cc9-87ce63a32bcb",
   "metadata": {},
   "outputs": [
    {
     "data": {
      "text/plain": [
       "tensor([True, True, True, True, True, True])"
      ]
     },
     "execution_count": 34,
     "metadata": {},
     "output_type": "execute_result"
    }
   ],
   "source": [
    "torch.tensor(~t_df[~train_idx].isna().to_numpy().flatten())"
   ]
  },
  {
   "cell_type": "markdown",
   "id": "cfbff351-dd9c-4400-9dc7-4620ba1adc39",
   "metadata": {},
   "source": [
    "Implement this into a function"
   ]
  },
  {
   "cell_type": "code",
   "execution_count": 35,
   "id": "763750bf-a86b-471e-8310-578e37565dab",
   "metadata": {
    "tags": []
   },
   "outputs": [],
   "source": [
    "#| export\n",
    "class GPFAImputation:\n",
    "    def __init__(\n",
    "        self,\n",
    "        data: pd.DataFrame , #observed data with missing data as NA\n",
    "    ):\n",
    "        self.data = data\n",
    "        self.T = torch.arange(0, len(data), dtype=torch.float32) # time is encoded with a increase of 1\n",
    "        \n",
    "        # Training data\n",
    "        self.train_idx = ~self.data.isna().any(1)\n",
    "        self.train_data = torch.tensor(self.data[self.train_idx].to_numpy())\n",
    "        self.train_T = self.T[self.train_idx]\n",
    "        \n",
    "        self.learner = GPFALearner(X = self.train_data, T = self.train_T)\n",
    "\n",
    "        # Prediction data\n",
    "        self.pred_T = self.T[~self.train_idx]\n",
    "        self.cond_idx = torch.tensor(~self.data[~self.train_idx].isna().to_numpy().flatten()) # conditional obsevations\n",
    "        self.cond_obs = torch.tensor(self.data[~self.train_idx].to_numpy().flatten()[self.cond_idx])\n",
    "        \n",
    "        \n",
    "    def impute(self,\n",
    "               add_time = True, # add column with time?\n",
    "               tidy = True # tidy data?\n",
    "               ):\n",
    "        self.learner.train()\n",
    "        self.pred = self.learner.predict(self.pred_T, obs = self.cond_obs, idx = self.cond_idx)\n",
    "        \n",
    "        if tidy: return self._impute_tidy(add_time)\n",
    "        else: return self._impute_wide(add_time)\n",
    "        \n",
    "        \n",
    "    def _impute_wide(self, add_time):\n",
    "        \"\"\" Impute in wide format\"\"\"\n",
    "        \n",
    "        imp_data = self.data.copy()\n",
    "        for col_idx, col_name in enumerate(imp_data.columns):\n",
    "            imp_data.loc[~self.train_idx, col_name] = self.pred.mean[:, col_idx].numpy()\n",
    "            imp_data.loc[~self.train_idx, col_name + \"_std\"] = self.pred.std[:, col_idx].numpy()\n",
    "        \n",
    "        idx_vars = []\n",
    "        if add_time:\n",
    "            imp_data[\"time\"] = self.T\n",
    "            idx_vars.append(\"time\")\n",
    "        \n",
    "        return imp_data \n",
    "    \n",
    "    def _impute_tidy(self, add_time):\n",
    "        \"\"\" transform the pred output into a tidy dataframe suitable for plotting\"\"\"\n",
    "        feature_names = self.data.columns\n",
    "\n",
    "        pred_mean = pd.DataFrame(self.pred.mean, columns = feature_names).assign(time = self.pred_T).melt(\"time\", value_name=\"mean\")\n",
    "        pred_std = pd.DataFrame(self.pred.std, columns = feature_names).assign(time = self.pred_T).melt(\"time\", value_name=\"std\")\n",
    "        \n",
    "        pred = pd.merge(pred_mean, pred_std, on=['time', 'variable'])  \n",
    "        \n",
    "        train_data = self.data[self.train_idx].assign(time = self.train_T).melt(\"time\", value_name = \"mean\")\n",
    "               \n",
    "        pred = pd.concat((train_data, pred))\n",
    "        \n",
    "        self.pred_tidy = pred \n",
    "        return pred \n",
    "    "
   ]
  },
  {
   "cell_type": "code",
   "execution_count": 36,
   "id": "dc2aecff-6f22-4bc4-b3c6-d1d149ac17ba",
   "metadata": {},
   "outputs": [
    {
     "data": {
      "text/html": [
       "<div>\n",
       "<style scoped>\n",
       "    .dataframe tbody tr th:only-of-type {\n",
       "        vertical-align: middle;\n",
       "    }\n",
       "\n",
       "    .dataframe tbody tr th {\n",
       "        vertical-align: top;\n",
       "    }\n",
       "\n",
       "    .dataframe thead th {\n",
       "        text-align: right;\n",
       "    }\n",
       "</style>\n",
       "<table border=\"1\" class=\"dataframe\">\n",
       "  <thead>\n",
       "    <tr style=\"text-align: right;\">\n",
       "      <th></th>\n",
       "      <th>x0</th>\n",
       "      <th>x1</th>\n",
       "    </tr>\n",
       "  </thead>\n",
       "  <tbody>\n",
       "    <tr>\n",
       "      <th>0</th>\n",
       "      <td>-0.151843</td>\n",
       "      <td>0.041360</td>\n",
       "    </tr>\n",
       "    <tr>\n",
       "      <th>1</th>\n",
       "      <td>0.707272</td>\n",
       "      <td>1.774958</td>\n",
       "    </tr>\n",
       "    <tr>\n",
       "      <th>2</th>\n",
       "      <td>1.220836</td>\n",
       "      <td>1.639830</td>\n",
       "    </tr>\n",
       "    <tr>\n",
       "      <th>3</th>\n",
       "      <td>0.065848</td>\n",
       "      <td>0.278568</td>\n",
       "    </tr>\n",
       "    <tr>\n",
       "      <th>4</th>\n",
       "      <td>-0.743248</td>\n",
       "      <td>-1.678350</td>\n",
       "    </tr>\n",
       "    <tr>\n",
       "      <th>5</th>\n",
       "      <td>-1.043636</td>\n",
       "      <td>-1.852417</td>\n",
       "    </tr>\n",
       "    <tr>\n",
       "      <th>6</th>\n",
       "      <td>-0.574820</td>\n",
       "      <td>-0.545305</td>\n",
       "    </tr>\n",
       "    <tr>\n",
       "      <th>7</th>\n",
       "      <td>NaN</td>\n",
       "      <td>1.137419</td>\n",
       "    </tr>\n",
       "    <tr>\n",
       "      <th>8</th>\n",
       "      <td>NaN</td>\n",
       "      <td>NaN</td>\n",
       "    </tr>\n",
       "    <tr>\n",
       "      <th>9</th>\n",
       "      <td>NaN</td>\n",
       "      <td>NaN</td>\n",
       "    </tr>\n",
       "  </tbody>\n",
       "</table>\n",
       "</div>"
      ],
      "text/plain": [
       "         x0        x1\n",
       "0 -0.151843  0.041360\n",
       "1  0.707272  1.774958\n",
       "2  1.220836  1.639830\n",
       "3  0.065848  0.278568\n",
       "4 -0.743248 -1.678350\n",
       "5 -1.043636 -1.852417\n",
       "6 -0.574820 -0.545305\n",
       "7       NaN  1.137419\n",
       "8       NaN       NaN\n",
       "9       NaN       NaN"
      ]
     },
     "execution_count": 36,
     "metadata": {},
     "output_type": "execute_result"
    }
   ],
   "source": [
    "fd = GPFAFakeData(2, 10, Lambda=[1,2.]).as_df(tidy=False).drop(\"T\", axis=1)\n",
    "\n",
    "fd[8:] = np.nan # manually add some missing values\n",
    "fd.iloc[7, 0] = np.nan\n",
    "fd"
   ]
  },
  {
   "cell_type": "code",
   "execution_count": 37,
   "id": "a931cb48-2183-48b9-b136-b6c3ca6da2cc",
   "metadata": {},
   "outputs": [],
   "source": [
    "imp = GPFAImputation(fd)"
   ]
  },
  {
   "cell_type": "code",
   "execution_count": 38,
   "id": "1c9d836e-0c99-4193-ba26-4dbdb8946e3a",
   "metadata": {},
   "outputs": [
    {
     "data": {
      "text/html": [
       "\n",
       "<style>\n",
       "    /* Turns off some styling */\n",
       "    progress {\n",
       "        /* gets rid of default border in Firefox and Opera. */\n",
       "        border: none;\n",
       "        /* Needs to be in here for Safari polyfill so background images work as expected. */\n",
       "        background-size: auto;\n",
       "    }\n",
       "    progress:not([value]), progress:not([value])::-webkit-progress-bar {\n",
       "        background: repeating-linear-gradient(45deg, #7e7e7e, #7e7e7e 10px, #5c5c5c 10px, #5c5c5c 20px);\n",
       "    }\n",
       "    .progress-bar-interrupted, .progress-bar-interrupted::-webkit-progress-bar {\n",
       "        background: #F44336;\n",
       "    }\n",
       "</style>\n"
      ],
      "text/plain": [
       "<IPython.core.display.HTML object>"
      ]
     },
     "metadata": {},
     "output_type": "display_data"
    },
    {
     "data": {
      "text/html": [],
      "text/plain": [
       "<IPython.core.display.HTML object>"
      ]
     },
     "metadata": {},
     "output_type": "display_data"
    },
    {
     "name": "stderr",
     "output_type": "stream",
     "text": [
      "/home/simone/anaconda3/envs/data-science/lib/python3.10/site-packages/gpytorch/lazy/triangular_lazy_tensor.py:136: UserWarning: torch.triangular_solve is deprecated in favor of torch.linalg.solve_triangularand will be removed in a future PyTorch release.\n",
      "torch.linalg.solve_triangular has its arguments reversed and does not return a copy of one of the inputs.\n",
      "X = torch.triangular_solve(B, A).solution\n",
      "should be replaced with\n",
      "X = torch.linalg.solve_triangular(A, B). (Triggered internally at  ../aten/src/ATen/native/BatchLinearAlgebra.cpp:2183.)\n",
      "  res = torch.triangular_solve(right_tensor, self.evaluate(), upper=self.upper).solution\n",
      "/home/simone/anaconda3/envs/data-science/lib/python3.10/site-packages/torch/autograd/__init__.py:173: UserWarning: operator() profile_node %840 : int[] = prim::profile_ivalue(%838)\n",
      " does not have profile information (Triggered internally at  ../torch/csrc/jit/codegen/cuda/graph_fuser.cpp:104.)\n",
      "  Variable._execution_engine.run_backward(  # Calls into the C++ engine to run the backward pass\n"
     ]
    },
    {
     "data": {
      "text/html": [
       "<div>\n",
       "<style scoped>\n",
       "    .dataframe tbody tr th:only-of-type {\n",
       "        vertical-align: middle;\n",
       "    }\n",
       "\n",
       "    .dataframe tbody tr th {\n",
       "        vertical-align: top;\n",
       "    }\n",
       "\n",
       "    .dataframe thead th {\n",
       "        text-align: right;\n",
       "    }\n",
       "</style>\n",
       "<table border=\"1\" class=\"dataframe\">\n",
       "  <thead>\n",
       "    <tr style=\"text-align: right;\">\n",
       "      <th></th>\n",
       "      <th>time</th>\n",
       "      <th>variable</th>\n",
       "      <th>mean</th>\n",
       "      <th>std</th>\n",
       "    </tr>\n",
       "  </thead>\n",
       "  <tbody>\n",
       "    <tr>\n",
       "      <th>0</th>\n",
       "      <td>0.0</td>\n",
       "      <td>x0</td>\n",
       "      <td>-0.151843</td>\n",
       "      <td>NaN</td>\n",
       "    </tr>\n",
       "    <tr>\n",
       "      <th>1</th>\n",
       "      <td>1.0</td>\n",
       "      <td>x0</td>\n",
       "      <td>0.707272</td>\n",
       "      <td>NaN</td>\n",
       "    </tr>\n",
       "    <tr>\n",
       "      <th>2</th>\n",
       "      <td>2.0</td>\n",
       "      <td>x0</td>\n",
       "      <td>1.220836</td>\n",
       "      <td>NaN</td>\n",
       "    </tr>\n",
       "    <tr>\n",
       "      <th>3</th>\n",
       "      <td>3.0</td>\n",
       "      <td>x0</td>\n",
       "      <td>0.065848</td>\n",
       "      <td>NaN</td>\n",
       "    </tr>\n",
       "    <tr>\n",
       "      <th>4</th>\n",
       "      <td>4.0</td>\n",
       "      <td>x0</td>\n",
       "      <td>-0.743248</td>\n",
       "      <td>NaN</td>\n",
       "    </tr>\n",
       "    <tr>\n",
       "      <th>5</th>\n",
       "      <td>5.0</td>\n",
       "      <td>x0</td>\n",
       "      <td>-1.043636</td>\n",
       "      <td>NaN</td>\n",
       "    </tr>\n",
       "    <tr>\n",
       "      <th>6</th>\n",
       "      <td>6.0</td>\n",
       "      <td>x0</td>\n",
       "      <td>-0.574820</td>\n",
       "      <td>NaN</td>\n",
       "    </tr>\n",
       "    <tr>\n",
       "      <th>7</th>\n",
       "      <td>0.0</td>\n",
       "      <td>x1</td>\n",
       "      <td>0.041360</td>\n",
       "      <td>NaN</td>\n",
       "    </tr>\n",
       "    <tr>\n",
       "      <th>8</th>\n",
       "      <td>1.0</td>\n",
       "      <td>x1</td>\n",
       "      <td>1.774958</td>\n",
       "      <td>NaN</td>\n",
       "    </tr>\n",
       "    <tr>\n",
       "      <th>9</th>\n",
       "      <td>2.0</td>\n",
       "      <td>x1</td>\n",
       "      <td>1.639830</td>\n",
       "      <td>NaN</td>\n",
       "    </tr>\n",
       "    <tr>\n",
       "      <th>10</th>\n",
       "      <td>3.0</td>\n",
       "      <td>x1</td>\n",
       "      <td>0.278568</td>\n",
       "      <td>NaN</td>\n",
       "    </tr>\n",
       "    <tr>\n",
       "      <th>11</th>\n",
       "      <td>4.0</td>\n",
       "      <td>x1</td>\n",
       "      <td>-1.678350</td>\n",
       "      <td>NaN</td>\n",
       "    </tr>\n",
       "    <tr>\n",
       "      <th>12</th>\n",
       "      <td>5.0</td>\n",
       "      <td>x1</td>\n",
       "      <td>-1.852417</td>\n",
       "      <td>NaN</td>\n",
       "    </tr>\n",
       "    <tr>\n",
       "      <th>13</th>\n",
       "      <td>6.0</td>\n",
       "      <td>x1</td>\n",
       "      <td>-0.545305</td>\n",
       "      <td>NaN</td>\n",
       "    </tr>\n",
       "    <tr>\n",
       "      <th>0</th>\n",
       "      <td>7.0</td>\n",
       "      <td>x0</td>\n",
       "      <td>0.551243</td>\n",
       "      <td>0.187996</td>\n",
       "    </tr>\n",
       "    <tr>\n",
       "      <th>1</th>\n",
       "      <td>8.0</td>\n",
       "      <td>x0</td>\n",
       "      <td>0.971316</td>\n",
       "      <td>0.402306</td>\n",
       "    </tr>\n",
       "    <tr>\n",
       "      <th>2</th>\n",
       "      <td>9.0</td>\n",
       "      <td>x0</td>\n",
       "      <td>0.731399</td>\n",
       "      <td>0.728000</td>\n",
       "    </tr>\n",
       "    <tr>\n",
       "      <th>3</th>\n",
       "      <td>7.0</td>\n",
       "      <td>x1</td>\n",
       "      <td>1.137419</td>\n",
       "      <td>0.000000</td>\n",
       "    </tr>\n",
       "    <tr>\n",
       "      <th>4</th>\n",
       "      <td>8.0</td>\n",
       "      <td>x1</td>\n",
       "      <td>1.825731</td>\n",
       "      <td>0.689611</td>\n",
       "    </tr>\n",
       "    <tr>\n",
       "      <th>5</th>\n",
       "      <td>9.0</td>\n",
       "      <td>x1</td>\n",
       "      <td>1.395598</td>\n",
       "      <td>1.287966</td>\n",
       "    </tr>\n",
       "  </tbody>\n",
       "</table>\n",
       "</div>"
      ],
      "text/plain": [
       "    time variable      mean       std\n",
       "0    0.0       x0 -0.151843       NaN\n",
       "1    1.0       x0  0.707272       NaN\n",
       "2    2.0       x0  1.220836       NaN\n",
       "3    3.0       x0  0.065848       NaN\n",
       "4    4.0       x0 -0.743248       NaN\n",
       "5    5.0       x0 -1.043636       NaN\n",
       "6    6.0       x0 -0.574820       NaN\n",
       "7    0.0       x1  0.041360       NaN\n",
       "8    1.0       x1  1.774958       NaN\n",
       "9    2.0       x1  1.639830       NaN\n",
       "10   3.0       x1  0.278568       NaN\n",
       "11   4.0       x1 -1.678350       NaN\n",
       "12   5.0       x1 -1.852417       NaN\n",
       "13   6.0       x1 -0.545305       NaN\n",
       "0    7.0       x0  0.551243  0.187996\n",
       "1    8.0       x0  0.971316  0.402306\n",
       "2    9.0       x0  0.731399  0.728000\n",
       "3    7.0       x1  1.137419  0.000000\n",
       "4    8.0       x1  1.825731  0.689611\n",
       "5    9.0       x1  1.395598  1.287966"
      ]
     },
     "execution_count": 38,
     "metadata": {},
     "output_type": "execute_result"
    }
   ],
   "source": [
    "pred = imp.impute()\n",
    "pred"
   ]
  },
  {
   "cell_type": "code",
   "execution_count": 39,
   "id": "00aef7e1-9f50-4b89-878e-43d49e023ac3",
   "metadata": {},
   "outputs": [
    {
     "data": {
      "text/html": [
       "\n",
       "<style>\n",
       "    /* Turns off some styling */\n",
       "    progress {\n",
       "        /* gets rid of default border in Firefox and Opera. */\n",
       "        border: none;\n",
       "        /* Needs to be in here for Safari polyfill so background images work as expected. */\n",
       "        background-size: auto;\n",
       "    }\n",
       "    progress:not([value]), progress:not([value])::-webkit-progress-bar {\n",
       "        background: repeating-linear-gradient(45deg, #7e7e7e, #7e7e7e 10px, #5c5c5c 10px, #5c5c5c 20px);\n",
       "    }\n",
       "    .progress-bar-interrupted, .progress-bar-interrupted::-webkit-progress-bar {\n",
       "        background: #F44336;\n",
       "    }\n",
       "</style>\n"
      ],
      "text/plain": [
       "<IPython.core.display.HTML object>"
      ]
     },
     "metadata": {},
     "output_type": "display_data"
    },
    {
     "data": {
      "text/html": [],
      "text/plain": [
       "<IPython.core.display.HTML object>"
      ]
     },
     "metadata": {},
     "output_type": "display_data"
    },
    {
     "data": {
      "text/html": [
       "<div>\n",
       "<style scoped>\n",
       "    .dataframe tbody tr th:only-of-type {\n",
       "        vertical-align: middle;\n",
       "    }\n",
       "\n",
       "    .dataframe tbody tr th {\n",
       "        vertical-align: top;\n",
       "    }\n",
       "\n",
       "    .dataframe thead th {\n",
       "        text-align: right;\n",
       "    }\n",
       "</style>\n",
       "<table border=\"1\" class=\"dataframe\">\n",
       "  <thead>\n",
       "    <tr style=\"text-align: right;\">\n",
       "      <th></th>\n",
       "      <th>x0</th>\n",
       "      <th>x1</th>\n",
       "      <th>x0_std</th>\n",
       "      <th>x1_std</th>\n",
       "      <th>time</th>\n",
       "    </tr>\n",
       "  </thead>\n",
       "  <tbody>\n",
       "    <tr>\n",
       "      <th>0</th>\n",
       "      <td>-0.151843</td>\n",
       "      <td>0.041360</td>\n",
       "      <td>NaN</td>\n",
       "      <td>NaN</td>\n",
       "      <td>0.0</td>\n",
       "    </tr>\n",
       "    <tr>\n",
       "      <th>1</th>\n",
       "      <td>0.707272</td>\n",
       "      <td>1.774958</td>\n",
       "      <td>NaN</td>\n",
       "      <td>NaN</td>\n",
       "      <td>1.0</td>\n",
       "    </tr>\n",
       "    <tr>\n",
       "      <th>2</th>\n",
       "      <td>1.220836</td>\n",
       "      <td>1.639830</td>\n",
       "      <td>NaN</td>\n",
       "      <td>NaN</td>\n",
       "      <td>2.0</td>\n",
       "    </tr>\n",
       "    <tr>\n",
       "      <th>3</th>\n",
       "      <td>0.065848</td>\n",
       "      <td>0.278568</td>\n",
       "      <td>NaN</td>\n",
       "      <td>NaN</td>\n",
       "      <td>3.0</td>\n",
       "    </tr>\n",
       "    <tr>\n",
       "      <th>4</th>\n",
       "      <td>-0.743248</td>\n",
       "      <td>-1.678350</td>\n",
       "      <td>NaN</td>\n",
       "      <td>NaN</td>\n",
       "      <td>4.0</td>\n",
       "    </tr>\n",
       "    <tr>\n",
       "      <th>5</th>\n",
       "      <td>-1.043636</td>\n",
       "      <td>-1.852417</td>\n",
       "      <td>NaN</td>\n",
       "      <td>NaN</td>\n",
       "      <td>5.0</td>\n",
       "    </tr>\n",
       "    <tr>\n",
       "      <th>6</th>\n",
       "      <td>-0.574820</td>\n",
       "      <td>-0.545305</td>\n",
       "      <td>NaN</td>\n",
       "      <td>NaN</td>\n",
       "      <td>6.0</td>\n",
       "    </tr>\n",
       "    <tr>\n",
       "      <th>7</th>\n",
       "      <td>0.550473</td>\n",
       "      <td>1.137419</td>\n",
       "      <td>0.190508</td>\n",
       "      <td>0.000000</td>\n",
       "      <td>7.0</td>\n",
       "    </tr>\n",
       "    <tr>\n",
       "      <th>8</th>\n",
       "      <td>0.966047</td>\n",
       "      <td>1.821875</td>\n",
       "      <td>0.402892</td>\n",
       "      <td>0.689609</td>\n",
       "      <td>8.0</td>\n",
       "    </tr>\n",
       "    <tr>\n",
       "      <th>9</th>\n",
       "      <td>0.727238</td>\n",
       "      <td>1.392444</td>\n",
       "      <td>0.728918</td>\n",
       "      <td>1.291802</td>\n",
       "      <td>9.0</td>\n",
       "    </tr>\n",
       "  </tbody>\n",
       "</table>\n",
       "</div>"
      ],
      "text/plain": [
       "         x0        x1    x0_std    x1_std  time\n",
       "0 -0.151843  0.041360       NaN       NaN   0.0\n",
       "1  0.707272  1.774958       NaN       NaN   1.0\n",
       "2  1.220836  1.639830       NaN       NaN   2.0\n",
       "3  0.065848  0.278568       NaN       NaN   3.0\n",
       "4 -0.743248 -1.678350       NaN       NaN   4.0\n",
       "5 -1.043636 -1.852417       NaN       NaN   5.0\n",
       "6 -0.574820 -0.545305       NaN       NaN   6.0\n",
       "7  0.550473  1.137419  0.190508  0.000000   7.0\n",
       "8  0.966047  1.821875  0.402892  0.689609   8.0\n",
       "9  0.727238  1.392444  0.728918  1.291802   9.0"
      ]
     },
     "execution_count": 39,
     "metadata": {},
     "output_type": "execute_result"
    }
   ],
   "source": [
    "imp.impute(tidy=False)"
   ]
  },
  {
   "cell_type": "markdown",
   "id": "edefe579-4f31-465c-bfc8-3423c36cb8f8",
   "metadata": {
    "tags": []
   },
   "source": [
    "### Prediction plot"
   ]
  },
  {
   "cell_type": "code",
   "execution_count": 40,
   "id": "896fcdca-2735-4851-8cb5-56db9f538fc7",
   "metadata": {},
   "outputs": [],
   "source": [
    "@patch()\n",
    "def plot_pred(\n",
    "    self: GPFAImputation,\n",
    "    truth = None # Optional true data to be plotted agaist predictions\n",
    "):\n",
    "    \n",
    "    if not hasattr(self, \"pred_tidy\"): self.predict()\n",
    "    \n",
    "    error = alt.Chart(self.pred_tidy).mark_errorband().encode(\n",
    "        x = \"T\",    \n",
    "        y = alt.Y(\"err_low:Q\", title=\"\"),\n",
    "        y2 = \"err_high:Q\",\n",
    "        color=\"variable\"\n",
    "    ).transform_calculate(\n",
    "        err_low = \"datum.mean - 2 * datum.std\",\n",
    "        err_high = \"datum.mean + 2 * datum.std\"\n",
    "    )\n",
    "\n",
    "    pred = alt.Chart(self.pred_tidy).mark_line().encode(\n",
    "        x = \"T\",    \n",
    "        y = alt.Y(\"mean:Q\", title=\"value variable\"),\n",
    "        color=\"variable\"\n",
    "    )\n",
    "\n",
    "    plot = error + pred\n",
    "    \n",
    "    if truth is not None:\n",
    "        \n",
    "        truth_plt = alt.Chart(truth).mark_point().encode(\n",
    "            x = \"T\",\n",
    "            y = alt.Y(\"value\", title=\"value variable\"),\n",
    "            color=\"variable\",\n",
    "            shape = \"is_missing\"\n",
    "        )\n",
    "        \n",
    "        plot = plot + truth_plt\n",
    "    \n",
    "    \n",
    "    return plot"
   ]
  },
  {
   "cell_type": "code",
   "execution_count": 41,
   "id": "b18591eb-6dc6-42bb-992c-1d98048e4115",
   "metadata": {},
   "outputs": [
    {
     "ename": "AttributeError",
     "evalue": "'DataFrame' object has no attribute 'as_df'",
     "output_type": "error",
     "traceback": [
      "\u001b[0;31m---------------------------------------------------------------------------\u001b[0m",
      "\u001b[0;31mAttributeError\u001b[0m                            Traceback (most recent call last)",
      "Input \u001b[0;32mIn [41]\u001b[0m, in \u001b[0;36m<cell line: 1>\u001b[0;34m()\u001b[0m\n\u001b[0;32m----> 1\u001b[0m imp\u001b[38;5;241m.\u001b[39mplot_pred(\u001b[43mfd\u001b[49m\u001b[38;5;241;43m.\u001b[39;49m\u001b[43mas_df\u001b[49m(miss\u001b[38;5;241m=\u001b[39m\u001b[38;5;28;01mFalse\u001b[39;00m, add_miss\u001b[38;5;241m=\u001b[39m\u001b[38;5;28;01mTrue\u001b[39;00m))\n",
      "File \u001b[0;32m~/anaconda3/envs/data-science/lib/python3.10/site-packages/pandas/core/generic.py:5575\u001b[0m, in \u001b[0;36mNDFrame.__getattr__\u001b[0;34m(self, name)\u001b[0m\n\u001b[1;32m   5568\u001b[0m \u001b[38;5;28;01mif\u001b[39;00m (\n\u001b[1;32m   5569\u001b[0m     name \u001b[38;5;129;01mnot\u001b[39;00m \u001b[38;5;129;01min\u001b[39;00m \u001b[38;5;28mself\u001b[39m\u001b[38;5;241m.\u001b[39m_internal_names_set\n\u001b[1;32m   5570\u001b[0m     \u001b[38;5;129;01mand\u001b[39;00m name \u001b[38;5;129;01mnot\u001b[39;00m \u001b[38;5;129;01min\u001b[39;00m \u001b[38;5;28mself\u001b[39m\u001b[38;5;241m.\u001b[39m_metadata\n\u001b[1;32m   5571\u001b[0m     \u001b[38;5;129;01mand\u001b[39;00m name \u001b[38;5;129;01mnot\u001b[39;00m \u001b[38;5;129;01min\u001b[39;00m \u001b[38;5;28mself\u001b[39m\u001b[38;5;241m.\u001b[39m_accessors\n\u001b[1;32m   5572\u001b[0m     \u001b[38;5;129;01mand\u001b[39;00m \u001b[38;5;28mself\u001b[39m\u001b[38;5;241m.\u001b[39m_info_axis\u001b[38;5;241m.\u001b[39m_can_hold_identifiers_and_holds_name(name)\n\u001b[1;32m   5573\u001b[0m ):\n\u001b[1;32m   5574\u001b[0m     \u001b[38;5;28;01mreturn\u001b[39;00m \u001b[38;5;28mself\u001b[39m[name]\n\u001b[0;32m-> 5575\u001b[0m \u001b[38;5;28;01mreturn\u001b[39;00m \u001b[38;5;28;43mobject\u001b[39;49m\u001b[38;5;241;43m.\u001b[39;49m\u001b[38;5;21;43m__getattribute__\u001b[39;49m\u001b[43m(\u001b[49m\u001b[38;5;28;43mself\u001b[39;49m\u001b[43m,\u001b[49m\u001b[43m \u001b[49m\u001b[43mname\u001b[49m\u001b[43m)\u001b[49m\n",
      "\u001b[0;31mAttributeError\u001b[0m: 'DataFrame' object has no attribute 'as_df'"
     ]
    }
   ],
   "source": [
    "imp.plot_pred(fd.as_df(miss=False, add_miss=True))"
   ]
  },
  {
   "cell_type": "markdown",
   "id": "572755d3-4a54-4e31-8609-f20cb0cb849c",
   "metadata": {},
   "source": [
    "check the code works without true values"
   ]
  },
  {
   "cell_type": "code",
   "execution_count": null,
   "id": "22c66d7e-c284-4a03-93fd-f01222fdffa7",
   "metadata": {},
   "outputs": [],
   "source": [
    "imp.plot_pred()"
   ]
  },
  {
   "cell_type": "markdown",
   "id": "ab6a6083-2a03-4bb5-bf49-f41b543a5571",
   "metadata": {},
   "source": [
    "The code is running correctly and as expected around the missing data point the error is band is wider"
   ]
  },
  {
   "cell_type": "code",
   "execution_count": null,
   "id": "58580804-365d-447a-9a5e-3463f4846b74",
   "metadata": {},
   "outputs": [],
   "source": [
    "#| hide\n",
    "from nbdev import nbdev_export\n",
    "nbdev_export()"
   ]
  },
  {
   "cell_type": "code",
   "execution_count": null,
   "id": "2eae4088-d9a8-4651-b191-1f06c7be81c0",
   "metadata": {},
   "outputs": [],
   "source": []
  }
 ],
 "metadata": {
  "kernelspec": {
   "display_name": "data_science",
   "language": "python",
   "name": "data_science"
  },
  "language_info": {
   "codemirror_mode": {
    "name": "ipython",
    "version": 3
   },
   "file_extension": ".py",
   "mimetype": "text/x-python",
   "name": "python",
   "nbconvert_exporter": "python",
   "pygments_lexer": "ipython3",
   "version": "3.10.5"
  }
 },
 "nbformat": 4,
 "nbformat_minor": 5
}
